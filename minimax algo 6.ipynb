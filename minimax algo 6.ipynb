{
  "nbformat": 4,
  "nbformat_minor": 0,
  "metadata": {
    "colab": {
      "name": "minimax.ipynb",
      "provenance": []
    },
    "kernelspec": {
      "name": "python3",
      "display_name": "Python 3"
    },
    "language_info": {
      "name": "python"
    }
  },
  "cells": [
    {
      "cell_type": "code",
      "execution_count": 3,
      "metadata": {
        "colab": {
          "base_uri": "https://localhost:8080/"
        },
        "id": "32K51B2cOlOI",
        "outputId": "68add393-1bd0-4be4-ab69-9b8a1ec7457e"
      },
      "outputs": [
        {
          "output_type": "stream",
          "name": "stdout",
          "text": [
            "Optimal value is :  4\n"
          ]
        }
      ],
      "source": [
        "import math\n",
        "def minimax (curDepth, nodeIndex, maxTurn, scores,targetDepth) : \n",
        "  if(curDepth==targetDepth):\n",
        "    return scores[nodeIndex] \n",
        "  if(maxTurn):\n",
        "    return max(minimax(curDepth+1, nodeIndex*2,False,scores,targetDepth),minimax(curDepth+1, nodeIndex*2+1,False,scores,targetDepth))\n",
        "  else:\n",
        "    return min(minimax(curDepth+1, nodeIndex*2,True,scores,targetDepth),minimax(curDepth+1, nodeIndex*2+1,True,scores,targetDepth))\n",
        "scores=[-1,4,2,6,-3,-5,0,7]\n",
        "treeDepth=math.log(len(scores),2) \n",
        "print(\"Optimal value is : \",end=\" \")\n",
        "print(minimax(0,0,True,scores,treeDepth))"
      ]
    }
  ]
}