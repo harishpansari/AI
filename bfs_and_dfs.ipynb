{
  "nbformat": 4,
  "nbformat_minor": 0,
  "metadata": {
    "colab": {
      "name": "bfs and dfs.ipynb",
      "provenance": []
    },
    "kernelspec": {
      "name": "python3",
      "display_name": "Python 3"
    },
    "language_info": {
      "name": "python"
    }
  },
  "cells": [
    {
      "cell_type": "code",
      "source": [
        "graph = {\n",
        "'S': ['A', 'B'],\n",
        "'A': ['C', 'D'],\n",
        "'B': ['G','H'],\n",
        "'C': ['E','F'], 'D': [],\n",
        "'G': ['I'],\n",
        "'H': [],\n",
        "'E': ['K'],\n",
        "'F': [],\n",
        "'I': [],\n",
        "'K': []\n",
        "}\n",
        "visited =[] \n",
        "queue=[]\n",
        "def bfs(visited,graph,node): \n",
        "  visited.append(node) \n",
        "  queue.append(node)\n",
        "\n",
        "  while queue: \n",
        "    P=queue.pop(0) \n",
        "    print(P,end=\" \")\n",
        "\n",
        "    for neighbour in graph[P]:\n",
        "      if neighbour not in visited: \n",
        "        visited.append(neighbour) \n",
        "      queue.append(neighbour)\n",
        "\n",
        "avisit=set()\n",
        "def dfs(avisit,graph,node): \n",
        "  if node not in avisit:\n",
        "    print(node,end=\" \") \n",
        "    avisit.add(node)\n",
        "    for neighbour in graph[node]: \n",
        "      dfs(avisit,graph,neighbour)\n",
        " \n",
        "print(\"Breadth first search\") \n",
        "bfs(visited,graph,'S') \n",
        "print(\"\\nDepth first search\") \n",
        "dfs(avisit,graph,'S')\n"
      ],
      "metadata": {
        "colab": {
          "base_uri": "https://localhost:8080/"
        },
        "id": "ZKGvQm7KSbuZ",
        "outputId": "ffe62611-8fb9-446d-f881-f992204ea368"
      },
      "execution_count": 7,
      "outputs": [
        {
          "output_type": "stream",
          "name": "stdout",
          "text": [
            "Breadth first search\n",
            "S A B C D G H E F I K \n",
            "Depth first search\n",
            "S A C E K F D B G I H "
          ]
        }
      ]
    },
    {
      "cell_type": "code",
      "source": [
        ""
      ],
      "metadata": {
        "id": "ZqJFQAtyTrWz"
      },
      "execution_count": 6,
      "outputs": []
    }
  ]
}